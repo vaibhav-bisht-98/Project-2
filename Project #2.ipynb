{
 "cells": [
  {
   "cell_type": "markdown",
   "metadata": {},
   "source": [
    "# Determining popular posts on Hacker News\n",
    "\n",
    "Hacker News is a site started by the startup incubator Y Combinator, where user-submitted stories (known as \"posts\") are voted and commented upon, similar to reddit. Hacker News is extremely popular in technology and startup circles, and posts that make it to the top of Hacker News' listings can get hundreds of thousands of visitors as a result.\n",
    "[Data](https://www.kaggle.com/hacker-news/hacker-news-posts) has been picked up from [Kaggle](https://www.kaggle.com/) ,however it has been reduced from almost 300,000 rows to approximately 20,000 rows by removing all submissions that did not receive any comments, and then randomly sampling from the remaining submissions.Documentation for the dataset can be found [here](https://www.kaggle.com/hacker-news/hacker-news-posts).\n",
    "\n",
    "We are specifically interested in posts whose titles begin with either Ask HN or Show HN. We'll compare these two types of posts to determine :\n",
    "+ Do Ask HN or Show HN receive more comments on average.\n",
    "+ Do posts created at a certain time receive more comments on average.\n",
    "\n",
    "### Opening and exploring the data"
   ]
  },
  {
   "cell_type": "code",
   "execution_count": 1,
   "metadata": {},
   "outputs": [
    {
     "name": "stdout",
     "output_type": "stream",
     "text": [
      "['id', 'title', 'url', 'num_points', 'num_comments', 'author', 'created_at']\n",
      "['12224879', 'Interactive Dynamic Video', 'http://www.interactivedynamicvideo.com/', '386', '52', 'ne0phyte', '8/4/2016 11:52']\n",
      "['10975351', 'How to Use Open Source and Shut the Fuck Up at the Same Time', 'http://hueniverse.com/2016/01/26/how-to-use-open-source-and-shut-the-fuck-up-at-the-same-time/', '39', '10', 'josep2', '1/26/2016 19:30']\n",
      "['11964716', \"Florida DJs May Face Felony for April Fools' Water Joke\", 'http://www.thewire.com/entertainment/2013/04/florida-djs-april-fools-water-joke/63798/', '2', '1', 'vezycash', '6/23/2016 22:20']\n",
      "['11919867', 'Technology ventures: From Idea to Enterprise', 'https://www.amazon.com/Technology-Ventures-Enterprise-Thomas-Byers/dp/0073523429', '3', '1', 'hswarna', '6/17/2016 0:01']\n",
      "Number of columns= 7\n",
      "Number of rows= 20101\n"
     ]
    }
   ],
   "source": [
    "from csv import reader\n",
    "opened_file=open('hacker_news.csv')\n",
    "read_file=reader(opened_file)\n",
    "hn=list(read_file)\n",
    "\n",
    "def explore_data(dataset,start,end,rows_and_columns=False):\n",
    "    for row in dataset[start:end]:\n",
    "        print(row)\n",
    "    if rows_and_columns == True:\n",
    "        print('Number of columns=',len(dataset[0]))\n",
    "        print('Number of rows=',len(dataset))\n",
    "        \n",
    "explore_data(hn,0,5,True)\n",
    "    "
   ]
  },
  {
   "cell_type": "markdown",
   "metadata": {},
   "source": [
    "We'll now store the header of the file in a separate variable and remove it from the dataset for the ease of working with the dataset."
   ]
  },
  {
   "cell_type": "code",
   "execution_count": 2,
   "metadata": {},
   "outputs": [
    {
     "name": "stdout",
     "output_type": "stream",
     "text": [
      "['id', 'title', 'url', 'num_points', 'num_comments', 'author', 'created_at']\n",
      "['12224879', 'Interactive Dynamic Video', 'http://www.interactivedynamicvideo.com/', '386', '52', 'ne0phyte', '8/4/2016 11:52']\n",
      "['10975351', 'How to Use Open Source and Shut the Fuck Up at the Same Time', 'http://hueniverse.com/2016/01/26/how-to-use-open-source-and-shut-the-fuck-up-at-the-same-time/', '39', '10', 'josep2', '1/26/2016 19:30']\n",
      "['11964716', \"Florida DJs May Face Felony for April Fools' Water Joke\", 'http://www.thewire.com/entertainment/2013/04/florida-djs-april-fools-water-joke/63798/', '2', '1', 'vezycash', '6/23/2016 22:20']\n",
      "['11919867', 'Technology ventures: From Idea to Enterprise', 'https://www.amazon.com/Technology-Ventures-Enterprise-Thomas-Byers/dp/0073523429', '3', '1', 'hswarna', '6/17/2016 0:01']\n",
      "['10301696', 'Note by Note: The Making of Steinway L1037 (2007)', 'http://www.nytimes.com/2007/11/07/movies/07stein.html?_r=0', '8', '2', 'walterbell', '9/30/2015 4:12']\n",
      "Number of columns= 7\n",
      "Number of rows= 20100\n"
     ]
    }
   ],
   "source": [
    "header=hn[0]\n",
    "hn=hn[1:]\n",
    "print(header)\n",
    "explore_data(hn,0,5,True)"
   ]
  },
  {
   "cell_type": "markdown",
   "metadata": {},
   "source": [
    "# Extracting Required Data"
   ]
  },
  {
   "cell_type": "code",
   "execution_count": 3,
   "metadata": {},
   "outputs": [
    {
     "name": "stdout",
     "output_type": "stream",
     "text": [
      "Number of Ask HN posts 1744\n",
      "Number of Show HN posts 1162\n",
      "Number of Other HN posts 17194\n"
     ]
    }
   ],
   "source": [
    "ask_posts=[]\n",
    "show_posts=[]\n",
    "other_posts=[]\n",
    "\n",
    "for row in hn:\n",
    "    title=row[1]\n",
    "    title=title.lower()\n",
    "    if title.startswith('ask hn'):\n",
    "        ask_posts.append(row)\n",
    "    elif title.startswith('show hn'):\n",
    "        show_posts.append(row)\n",
    "    else:\n",
    "        other_posts.append(row)\n",
    "        \n",
    "print('Number of Ask HN posts',len(ask_posts))\n",
    "print('Number of Show HN posts',len(show_posts))\n",
    "print('Number of Other HN posts',len(other_posts))"
   ]
  },
  {
   "cell_type": "markdown",
   "metadata": {},
   "source": [
    "## Calculating the average number of comments per post for Ask HN and Show HN posts\n",
    "\n",
    "We'll calculate the average nuber of comments per post by iterating over the ask_posts data set to find the total number of comments for those posts and then dividing it by the total number of posts."
   ]
  },
  {
   "cell_type": "code",
   "execution_count": 4,
   "metadata": {},
   "outputs": [
    {
     "name": "stdout",
     "output_type": "stream",
     "text": [
      "14.038417431192661\n",
      "10.31669535283993\n"
     ]
    }
   ],
   "source": [
    "def column_avg(dataset,index):\n",
    "    total=0\n",
    "    for row in dataset:\n",
    "        num=int(row[index])\n",
    "        total += num\n",
    "        \n",
    "    return total/len(dataset)\n",
    "\n",
    "avg_ask_comments=column_avg(ask_posts,4)\n",
    "print(avg_ask_comments)\n",
    "\n",
    "avg_show_comments=column_avg(show_posts,4)\n",
    "print(avg_show_comments)"
   ]
  },
  {
   "cell_type": "markdown",
   "metadata": {},
   "source": [
    "On average, ask posts in our sample receive approximately 14 comments, whereas show posts receive approximately 10. Since ask posts are more likely to receive comments, we'll focus our remaining analysis just on these posts.\n",
    "\n",
    "## Determining the time of the day for which the posts created recieve maximum comments\n",
    "\n",
    "Next, we'll determine if we can maximize the amount of comments an ask post receives by creating it at a certain time. First, we'll find the amount of ask posts created during each hour of day, along with the number of comments those posts received. Then, we'll calculate the average amount of comments ask posts created at each hour of the day receive."
   ]
  },
  {
   "cell_type": "code",
   "execution_count": 5,
   "metadata": {},
   "outputs": [
    {
     "name": "stdout",
     "output_type": "stream",
     "text": [
      "['12296411', 'Ask HN: How to improve my personal website?', '', '2', '6', 'ahmedbaracat', datetime.datetime(2016, 8, 16, 9, 55)]\n",
      "['10610020', 'Ask HN: Am I the only one outraged by Twitter shutting down share counts?', '', '28', '29', 'tkfx', datetime.datetime(2015, 11, 22, 13, 43)]\n",
      "['11610310', 'Ask HN: Aby recent changes to CSS that broke mobile?', '', '1', '1', 'polskibus', datetime.datetime(2016, 5, 2, 10, 14)]\n",
      "['12210105', 'Ask HN: Looking for Employee #3 How do I do it?', '', '1', '3', 'sph130', datetime.datetime(2016, 8, 2, 14, 20)]\n",
      "['10394168', 'Ask HN: Someone offered to buy my browser extension from me. What now?', '', '28', '17', 'roykolak', datetime.datetime(2015, 10, 15, 16, 38)]\n"
     ]
    }
   ],
   "source": [
    "import datetime as dt\n",
    "for row in ask_posts:\n",
    "    date=row[-1]\n",
    "    date=dt.datetime.strptime(date,\"%m/%d/%Y %H:%M\")\n",
    "    row[-1]=date\n",
    "    \n",
    "explore_data(ask_posts,0,5)"
   ]
  },
  {
   "cell_type": "code",
   "execution_count": 6,
   "metadata": {},
   "outputs": [],
   "source": [
    "count_by_hour={}\n",
    "comments_by_hour={}\n",
    "\n",
    "for row in ask_posts:\n",
    "    num_comments=int(row[4])\n",
    "    date = row[-1]\n",
    "    time=date.hour\n",
    "    if time not in count_by_hour:\n",
    "        count_by_hour[time]=1\n",
    "    else :\n",
    "        count_by_hour[time] += 1\n",
    "        \n",
    "        \n",
    "    if time not in comments_by_hour:\n",
    "        comments_by_hour[time]= num_comments\n",
    "    else:\n",
    "        comments_by_hour[time] += num_comments\n",
    "        \n",
    "\n",
    "        "
   ]
  },
  {
   "cell_type": "markdown",
   "metadata": {},
   "source": [
    "We'll now calculate the average comments for each hour of the day by accessing the total number of comments in an hour and the total number of posts in that hour by using the dictionaries we created above."
   ]
  },
  {
   "cell_type": "code",
   "execution_count": 18,
   "metadata": {},
   "outputs": [
    {
     "name": "stdout",
     "output_type": "stream",
     "text": [
      "[9, 5.5777777777777775]\n",
      "[13, 14.741176470588234]\n",
      "[10, 13.440677966101696]\n",
      "[14, 13.233644859813085]\n",
      "[16, 16.796296296296298]\n",
      "Number of columns= 2\n",
      "Number of rows= 24\n"
     ]
    }
   ],
   "source": [
    "avg_by_hour=[]\n",
    "for hour in count_by_hour:\n",
    "    avg_by_hour.append([hour,comments_by_hour[hour]/count_by_hour[hour]])\n",
    "    \n",
    "explore_data(avg_by_hour,0,5,True)"
   ]
  },
  {
   "cell_type": "markdown",
   "metadata": {},
   "source": [
    "## Sorting and Printing Data \n",
    "\n",
    "We'll now sort the data by highest average number of comments."
   ]
  },
  {
   "cell_type": "code",
   "execution_count": 17,
   "metadata": {},
   "outputs": [
    {
     "name": "stdout",
     "output_type": "stream",
     "text": [
      "[15, 38.5948275862069]\n",
      "[2, 23.810344827586206]\n",
      "[20, 21.525]\n",
      "[16, 16.796296296296298]\n",
      "[21, 16.009174311926607]\n"
     ]
    }
   ],
   "source": [
    "sorted_by_hour=sorted(avg_by_hour,key=lambda x:x[1],reverse=True)\n",
    "explore_data(sorted_by_hour,0,5)"
   ]
  },
  {
   "cell_type": "markdown",
   "metadata": {},
   "source": [
    "We'll now print the results in a readable form using string.format()"
   ]
  },
  {
   "cell_type": "code",
   "execution_count": 20,
   "metadata": {},
   "outputs": [
    {
     "name": "stdout",
     "output_type": "stream",
     "text": [
      "15:00 : 38.59 average comments per post\n",
      "2:00 : 23.81 average comments per post\n",
      "20:00 : 21.52 average comments per post\n",
      "16:00 : 16.80 average comments per post\n",
      "21:00 : 16.01 average comments per post\n",
      "13:00 : 14.74 average comments per post\n",
      "10:00 : 13.44 average comments per post\n",
      "14:00 : 13.23 average comments per post\n",
      "18:00 : 13.20 average comments per post\n",
      "17:00 : 11.46 average comments per post\n",
      "1:00 : 11.38 average comments per post\n",
      "11:00 : 11.05 average comments per post\n",
      "19:00 : 10.80 average comments per post\n",
      "8:00 : 10.25 average comments per post\n",
      "5:00 : 10.09 average comments per post\n",
      "12:00 : 9.41 average comments per post\n",
      "6:00 : 9.02 average comments per post\n",
      "0:00 : 8.13 average comments per post\n",
      "23:00 : 7.99 average comments per post\n",
      "7:00 : 7.85 average comments per post\n",
      "3:00 : 7.80 average comments per post\n",
      "4:00 : 7.17 average comments per post\n",
      "22:00 : 6.75 average comments per post\n",
      "9:00 : 5.58 average comments per post\n"
     ]
    }
   ],
   "source": [
    "for row in sorted_by_hour:\n",
    "    template=\"{hour}:00 : {avg:.2f} average comments per post\"\n",
    "    output=template.format(hour=row[0],avg=row[1])\n",
    "    print(output)"
   ]
  },
  {
   "cell_type": "markdown",
   "metadata": {},
   "source": [
    "The hour that receives the most comments per post on average is 15:00, with an average of 38.59 comments per post. There's about a 60% increase in the number of comments between the hours with the highest and second highest average number of comments.\n",
    "\n",
    "According to the data set documentation, the timezone used is Eastern Time in the US. So, we could also write 15:00 as 3:00 pm est.\n",
    "\n",
    "# Conclusion\n",
    "\n",
    "In this project, we analyzed ask posts and show posts to determine which type of post and time receive the most comments on average. Based on our analysis, to maximize the amount of comments a post receives, we'd recommend the post be categorized as ask post and created between 15:00 and 16:00 (3:00 pm est - 4:00 pm est).\n",
    "\n",
    "However, it should be noted that the data set we analyzed excluded posts without any comments. Given that, it's more accurate to say that of the posts that received comments, ask posts received more comments on average and ask posts created between 15:00 and 16:00 (3:00 pm est - 4:00 pm est) received the most comments on average."
   ]
  }
 ],
 "metadata": {
  "kernelspec": {
   "display_name": "Python 3",
   "language": "python",
   "name": "python3"
  },
  "language_info": {
   "codemirror_mode": {
    "name": "ipython",
    "version": 3
   },
   "file_extension": ".py",
   "mimetype": "text/x-python",
   "name": "python",
   "nbconvert_exporter": "python",
   "pygments_lexer": "ipython3",
   "version": "3.7.3"
  }
 },
 "nbformat": 4,
 "nbformat_minor": 2
}
